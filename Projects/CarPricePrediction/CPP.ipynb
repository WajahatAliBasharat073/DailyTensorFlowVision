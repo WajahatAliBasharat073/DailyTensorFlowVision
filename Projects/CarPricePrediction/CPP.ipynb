{
 "cells": [
  {
   "cell_type": "markdown",
   "metadata": {},
   "source": [
    "## Car Price Prediction\n",
    "###  Road Map\n",
    "- 1. Task\n",
    "- 2. Data\n",
    "- 3. Modelling\n",
    "- 4. Error Measurement\n",
    "- 5. Training and optimization\n",
    "- 6. Performance Measurement\n",
    "- 7. Validation and Testing\n",
    "- 8. Corrective Measure"
   ]
  },
  {
   "cell_type": "markdown",
   "metadata": {},
   "source": [
    "### Task\n",
    "- predict the price of task oon the basis of given features"
   ]
  },
  {
   "cell_type": "code",
   "execution_count": 1,
   "metadata": {},
   "outputs": [],
   "source": [
    "## loading datset and importing a libraries\n",
    "import numpy as np\n",
    "import pandas as pd\n",
    "import matplotlib.pyplot as plt\n",
    "import seaborn as ans\n",
    "import tensorflow as tf"
   ]
  },
  {
   "cell_type": "code",
   "execution_count": 2,
   "metadata": {},
   "outputs": [
    {
     "data": {
      "text/plain": [
       "<bound method NDFrame.head of      v.id  on road old  on road now  years      km  rating  condition  \\\n",
       "0       1       535651       798186      3   78945       1          2   \n",
       "1       2       591911       861056      6  117220       5          9   \n",
       "2       3       686990       770762      2  132538       2          8   \n",
       "3       4       573999       722381      4  101065       4          3   \n",
       "4       5       691388       811335      6   61559       3          9   \n",
       "..    ...          ...          ...    ...     ...     ...        ...   \n",
       "995   996       633238       743850      5  125092       1          6   \n",
       "996   997       599626       848195      4   83370       2          9   \n",
       "997   998       646344       842733      7   86722       1          8   \n",
       "998   999       535559       732439      2  140478       4          5   \n",
       "999  1000       590105       779743      5   67295       4          2   \n",
       "\n",
       "     economy  top speed   hp  torque  current price  \n",
       "0         14        177   73     123       351318.0  \n",
       "1          9        148   74      95       285001.5  \n",
       "2         15        181   53      97       215386.0  \n",
       "3         11        197   54     116       244295.5  \n",
       "4         12        160   53     105       531114.5  \n",
       "..       ...        ...  ...     ...            ...  \n",
       "995       11        171   95      97       190744.0  \n",
       "996       14        161  101     120       419748.0  \n",
       "997        9        196  113      89       405871.0  \n",
       "998        9        184  112     128        74398.0  \n",
       "999        8        199   99      96       414938.5  \n",
       "\n",
       "[1000 rows x 12 columns]>"
      ]
     },
     "execution_count": 2,
     "metadata": {},
     "output_type": "execute_result"
    }
   ],
   "source": [
    "df=pd.read_csv(\"./dataset/train.csv\")\n",
    "df.head"
   ]
  },
  {
   "cell_type": "code",
   "execution_count": null,
   "metadata": {},
   "outputs": [],
   "source": []
  }
 ],
 "metadata": {
  "kernelspec": {
   "display_name": "myenv",
   "language": "python",
   "name": "python3"
  },
  "language_info": {
   "codemirror_mode": {
    "name": "ipython",
    "version": 3
   },
   "file_extension": ".py",
   "mimetype": "text/x-python",
   "name": "python",
   "nbconvert_exporter": "python",
   "pygments_lexer": "ipython3",
   "version": "3.10.0"
  }
 },
 "nbformat": 4,
 "nbformat_minor": 2
}
