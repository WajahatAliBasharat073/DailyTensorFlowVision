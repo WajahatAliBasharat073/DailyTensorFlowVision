{
 "cells": [
  {
   "cell_type": "markdown",
   "id": "21f8237fe904668c",
   "metadata": {},
   "source": [
    "##  Malaria Diagnosis\n",
    "-  Task\n",
    "- Data    (From Tensorflow datasets)\n",
    "- Modelling (CNN)\n",
    "- Error Sanctioning\n",
    "- Training and Optimization\n",
    "- Performance   Measurement\n",
    "- Validation and testing\n",
    "- Corrective measures"
   ]
  },
  {
   "cell_type": "markdown",
   "id": "94c22bd2509bbd10",
   "metadata": {},
   "source": [
    "### Task\n",
    " we have a segment of cell we have to tell whether it is parasitized or unparasitized"
   ]
  },
  {
   "cell_type": "markdown",
   "id": "28b48825bc1de51e",
   "metadata": {},
   "source": [
    "## Dataset Preparation"
   ]
  },
  {
   "cell_type": "code",
   "id": "a2dc6a30a14cc299",
   "metadata": {
    "ExecuteTime": {
     "end_time": "2025-02-27T18:50:36.881173Z",
     "start_time": "2025-02-27T18:50:28.965591Z"
    }
   },
   "source": [
    "### Importing libraries\n",
    "import numpy as np\n",
    "import tensorflow as tf\n",
    "import matplotlib.pyplot as plt\n",
    "import tensorflow_datasets as tfds\n",
    "from keras.src.ops import dtype\n",
    "from pandas.io.sas.sas_constants import dataset_length"
   ],
   "outputs": [],
   "execution_count": 1
  },
  {
   "cell_type": "code",
   "id": "1b4198587775e923",
   "metadata": {
    "ExecuteTime": {
     "end_time": "2025-02-27T18:51:11.000771Z",
     "start_time": "2025-02-27T18:50:36.899276Z"
    }
   },
   "source": [
    "ds,ds_info=tfds.load('malaria',with_info=True,as_supervised=True, shuffle_files=True,split=['train'])\n",
    "print(ds)\n",
    "print(ds_info)"
   ],
   "outputs": [
    {
     "name": "stderr",
     "output_type": "stream",
     "text": [
      "E:\\AI 2025\\CV\\TensorFlow_for_CV\\myenv\\lib\\site-packages\\tqdm\\auto.py:21: TqdmWarning: IProgress not found. Please update jupyter and ipywidgets. See https://ipywidgets.readthedocs.io/en/stable/user_install.html\n",
      "  from .autonotebook import tqdm as notebook_tqdm\n"
     ]
    },
    {
     "name": "stdout",
     "output_type": "stream",
     "text": [
      "\u001B[1mDownloading and preparing dataset Unknown size (download: Unknown size, generated: Unknown size, total: Unknown size) to C:\\Users\\wajah\\tensorflow_datasets\\malaria\\1.0.0...\u001B[0m\n"
     ]
    },
    {
     "name": "stderr",
     "output_type": "stream",
     "text": [
      "Dl Completed...: 0 url [00:00, ? url/s]\n",
      "Dl Size...: 0 MiB [00:00, ? MiB/s]\u001B[A\n",
      "\n",
      "Dl Completed...:   0%|          | 0/1 [00:00<?, ? url/s]\n",
      "Dl Size...: 0 MiB [00:00, ? MiB/s]\u001B[A\n",
      "\n",
      "Dl Completed...: 100%|██████████| 1/1 [00:00<00:00, 70.30 url/s]\n",
      "Dl Size...: 0 MiB [00:00, ? MiB/s]\u001B[A\n",
      "\n",
      "Dl Completed...: 100%|██████████| 1/1 [00:00<00:00, 48.86 url/s]\n",
      "Dl Size...:   0%|          | 0/353452851 [00:00<?, ? MiB/s]\u001B[A\n",
      "\n",
      "Dl Completed...: 100%|██████████| 1/1 [00:00<00:00, 37.76 url/s]\n",
      "Dl Size...: 100%|██████████| 353452851/353452851 [00:00<00:00, 15233604681.20 MiB/s]\u001B[A\n",
      "\n",
      "Extraction completed...: 0 file [00:00, ? file/s]\u001B[A\u001B[A\n",
      "Dl Size...: 100%|██████████| 353452851/353452851 [00:00<00:00, 9098595195.42 MiB/s] \n",
      "Dl Completed...: 100%|██████████| 1/1 [00:00<00:00, 21.67 url/s]\n",
      "Generating splits...:   0%|          | 0/1 [00:00<?, ? splits/s]\n",
      "Generating train examples...: 0 examples [00:00, ? examples/s]\u001B[A\n",
      "Generating train examples...: 2673 examples [00:01, 2672.29 examples/s]\u001B[A\n",
      "Generating train examples...: 5724 examples [00:02, 2892.31 examples/s]\u001B[A\n",
      "Generating train examples...: 8617 examples [00:03, 2754.56 examples/s]\u001B[A\n",
      "Generating train examples...: 11379 examples [00:04, 2400.52 examples/s]\u001B[A\n",
      "Generating train examples...: 14114 examples [00:05, 2500.16 examples/s]\u001B[A\n",
      "Generating train examples...: 16804 examples [00:06, 2559.31 examples/s]\u001B[A\n",
      "Generating train examples...: 19400 examples [00:07, 2480.70 examples/s]\u001B[A\n",
      "Generating train examples...: 21988 examples [00:08, 2502.65 examples/s]\u001B[A\n",
      "Generating train examples...: 24918 examples [00:09, 2625.96 examples/s]\u001B[A\n",
      "Generating train examples...: 24918 examples [00:19, 2625.96 examples/s]\u001B[A\n",
      "Generating train examples...: 26172 examples [00:19, 585.33 examples/s] \u001B[A\n",
      "Generating train examples...: 26307 examples [00:20, 539.50 examples/s]\u001B[A\n",
      "                                                                       \u001B[A\n",
      "Shuffling C:\\Users\\wajah\\tensorflow_datasets\\malaria\\incomplete.SFC2G5_1.0.0\\malaria-train.tfrecord*...:   0%|          | 0/27558 [00:00<?, ? examples/s]\u001B[A\n",
      "Shuffling C:\\Users\\wajah\\tensorflow_datasets\\malaria\\incomplete.SFC2G5_1.0.0\\malaria-train.tfrecord*...: 100%|██████████| 27558/27558 [00:01<00:00, 25674.16 examples/s]\u001B[A\n",
      "                                                                                                                                                                        \u001B[A\r"
     ]
    },
    {
     "name": "stdout",
     "output_type": "stream",
     "text": [
      "\u001B[1mDataset malaria downloaded and prepared to C:\\Users\\wajah\\tensorflow_datasets\\malaria\\1.0.0. Subsequent calls will reuse this data.\u001B[0m\n",
      "[<_PrefetchDataset element_spec=(TensorSpec(shape=(None, None, 3), dtype=tf.uint8, name=None), TensorSpec(shape=(), dtype=tf.int64, name=None))>]\n",
      "tfds.core.DatasetInfo(\n",
      "    name='malaria',\n",
      "    full_name='malaria/1.0.0',\n",
      "    description=\"\"\"\n",
      "    The Malaria dataset contains a total of 27,558 cell images with equal instances\n",
      "    of parasitized and uninfected cells from the thin blood smear slide images of\n",
      "    segmented cells.\n",
      "    \"\"\",\n",
      "    homepage='https://lhncbc.nlm.nih.gov/publication/pub9932',\n",
      "    data_dir='C:\\\\Users\\\\wajah\\\\tensorflow_datasets\\\\malaria\\\\1.0.0',\n",
      "    file_format=tfrecord,\n",
      "    download_size=Unknown size,\n",
      "    dataset_size=317.62 MiB,\n",
      "    features=FeaturesDict({\n",
      "        'image': Image(shape=(None, None, 3), dtype=uint8),\n",
      "        'label': ClassLabel(shape=(), dtype=int64, num_classes=2),\n",
      "    }),\n",
      "    supervised_keys=('image', 'label'),\n",
      "    disable_shuffling=False,\n",
      "    splits={\n",
      "        'train': <SplitInfo num_examples=27558, num_shards=4>,\n",
      "    },\n",
      "    citation=\"\"\"@article{rajaraman2018pre,\n",
      "      title={Pre-trained convolutional neural networks as feature extractors toward\n",
      "      improved malaria parasite detection in thin blood smear images},\n",
      "      author={Rajaraman, Sivaramakrishnan and Antani, Sameer K and Poostchi, Mahdieh\n",
      "      and Silamut, Kamolrat and Hossain, Md A and Maude, Richard J and Jaeger,\n",
      "      Stefan and Thoma, George R},\n",
      "      journal={PeerJ},\n",
      "      volume={6},\n",
      "      pages={e4568},\n",
      "      year={2018},\n",
      "      publisher={PeerJ Inc.}\n",
      "    }\"\"\",\n",
      ")\n"
     ]
    }
   ],
   "execution_count": 2
  },
  {
   "cell_type": "code",
   "id": "2f4ca16028b7a18c",
   "metadata": {
    "ExecuteTime": {
     "end_time": "2025-02-27T18:51:11.979135Z",
     "start_time": "2025-02-27T18:51:11.622829Z"
    }
   },
   "source": [
    "for data in ds[0].take(1):\n",
    "    print(data)"
   ],
   "outputs": [
    {
     "name": "stdout",
     "output_type": "stream",
     "text": [
      "(<tf.Tensor: shape=(151, 115, 3), dtype=uint8, numpy=\n",
      "array([[[0, 0, 0],\n",
      "        [0, 0, 0],\n",
      "        [0, 0, 0],\n",
      "        ...,\n",
      "        [0, 0, 0],\n",
      "        [0, 0, 0],\n",
      "        [0, 0, 0]],\n",
      "\n",
      "       [[0, 0, 0],\n",
      "        [0, 0, 0],\n",
      "        [0, 0, 0],\n",
      "        ...,\n",
      "        [0, 0, 0],\n",
      "        [0, 0, 0],\n",
      "        [0, 0, 0]],\n",
      "\n",
      "       [[0, 0, 0],\n",
      "        [0, 0, 0],\n",
      "        [0, 0, 0],\n",
      "        ...,\n",
      "        [0, 0, 0],\n",
      "        [0, 0, 0],\n",
      "        [0, 0, 0]],\n",
      "\n",
      "       ...,\n",
      "\n",
      "       [[0, 0, 0],\n",
      "        [0, 0, 0],\n",
      "        [0, 0, 0],\n",
      "        ...,\n",
      "        [0, 0, 0],\n",
      "        [0, 0, 0],\n",
      "        [0, 0, 0]],\n",
      "\n",
      "       [[0, 0, 0],\n",
      "        [0, 0, 0],\n",
      "        [0, 0, 0],\n",
      "        ...,\n",
      "        [0, 0, 0],\n",
      "        [0, 0, 0],\n",
      "        [0, 0, 0]],\n",
      "\n",
      "       [[0, 0, 0],\n",
      "        [0, 0, 0],\n",
      "        [0, 0, 0],\n",
      "        ...,\n",
      "        [0, 0, 0],\n",
      "        [0, 0, 0],\n",
      "        [0, 0, 0]]], dtype=uint8)>, <tf.Tensor: shape=(), dtype=int64, numpy=1>)\n"
     ]
    }
   ],
   "execution_count": 3
  },
  {
   "cell_type": "code",
   "id": "263b7636f9a2d077",
   "metadata": {
    "ExecuteTime": {
     "end_time": "2025-02-27T18:59:47.070309Z",
     "start_time": "2025-02-27T18:59:47.037791Z"
    }
   },
   "source": [
    "Train_Ratio=0.8\n",
    "Val_Ratio=0.1\n",
    "Test_Ratio=0.1\n",
    "dataset=tf.data.Dataset.range(10)\n",
    "print(list(dataset.as_numpy_iterator()))\n",
    "dataset_length=len(dataset)"
   ],
   "outputs": [
    {
     "name": "stdout",
     "output_type": "stream",
     "text": [
      "[np.int64(0), np.int64(1), np.int64(2), np.int64(3), np.int64(4), np.int64(5), np.int64(6), np.int64(7), np.int64(8), np.int64(9)]\n"
     ]
    }
   ],
   "execution_count": 14
  },
  {
   "cell_type": "code",
   "id": "73a7680950f6c35b",
   "metadata": {
    "ExecuteTime": {
     "end_time": "2025-02-27T19:00:06.827453Z",
     "start_time": "2025-02-27T19:00:06.793235Z"
    }
   },
   "source": [
    "train_dataset=dataset.take(int(Train_Ratio*dataset_length))\n",
    "# print(train_dataset)\n",
    "print(list(train_dataset.as_numpy_iterator()))"
   ],
   "outputs": [
    {
     "name": "stdout",
     "output_type": "stream",
     "text": [
      "[np.int64(0), np.int64(1), np.int64(2), np.int64(3), np.int64(4), np.int64(5), np.int64(6), np.int64(7)]\n"
     ]
    }
   ],
   "execution_count": 15
  },
  {
   "metadata": {
    "ExecuteTime": {
     "end_time": "2025-02-27T19:16:32.400816Z",
     "start_time": "2025-02-27T19:16:32.359018Z"
    }
   },
   "cell_type": "code",
   "source": [
    "val_test_dataset=dataset.skip(int(Train_Ratio*dataset_length))\n",
    "print(list(val_test_dataset.as_numpy_iterator()))\n",
    "val_dataset=val_test_dataset.take(int(Val_Ratio*dataset_length))\n",
    "print(list(val_dataset.as_numpy_iterator()))"
   ],
   "id": "4a7ef15e80ce17dc",
   "outputs": [
    {
     "name": "stdout",
     "output_type": "stream",
     "text": [
      "[np.int64(8), np.int64(9)]\n",
      "[np.int64(8)]\n"
     ]
    }
   ],
   "execution_count": 26
  },
  {
   "metadata": {
    "ExecuteTime": {
     "end_time": "2025-02-27T19:16:36.487275Z",
     "start_time": "2025-02-27T19:16:36.461731Z"
    }
   },
   "cell_type": "code",
   "source": [
    "test_dataset=val_test_dataset.skip(int(Val_Ratio*dataset_length))\n",
    "print(list(test_dataset.as_numpy_iterator()))"
   ],
   "id": "fa5769843ed87057",
   "outputs": [
    {
     "name": "stdout",
     "output_type": "stream",
     "text": [
      "[np.int64(9)]\n"
     ]
    }
   ],
   "execution_count": 27
  },
  {
   "metadata": {},
   "cell_type": "code",
   "outputs": [],
   "execution_count": null,
   "source": "",
   "id": "dc9019d89bb52a81"
  }
 ],
 "metadata": {
  "kernelspec": {
   "display_name": "myenv",
   "language": "python",
   "name": "python3"
  },
  "language_info": {
   "codemirror_mode": {
    "name": "ipython",
    "version": 3
   },
   "file_extension": ".py",
   "mimetype": "text/x-python",
   "name": "python",
   "nbconvert_exporter": "python",
   "pygments_lexer": "ipython3",
   "version": "3.10.0"
  }
 },
 "nbformat": 5,
 "nbformat_minor": 9
}
