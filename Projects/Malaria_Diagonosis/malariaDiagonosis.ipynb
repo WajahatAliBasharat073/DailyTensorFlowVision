{
 "cells": [
  {
   "metadata": {},
   "cell_type": "markdown",
   "source": [
    "##  Malaria Diagnosis\n",
    "-  Task\n",
    "- Data    (From Tensorflow datasets)\n",
    "- Modelling (CNN)\n",
    "- Error Sanctioning\n",
    "- Training and Optimization\n",
    "- Performance   Measurement\n",
    "- Validation and testing\n",
    "- Corrective measures"
   ],
   "id": "21f8237fe904668c"
  },
  {
   "metadata": {},
   "cell_type": "markdown",
   "source": [
    "### Task\n",
    " we have a segment of cell we have to tell whether it is parasitized or unparasitized"
   ],
   "id": "94c22bd2509bbd10"
  },
  {
   "metadata": {},
   "cell_type": "markdown",
   "source": "## Dataset Preparation",
   "id": "28b48825bc1de51e"
  },
  {
   "metadata": {},
   "cell_type": "code",
   "outputs": [],
   "execution_count": null,
   "source": "",
   "id": "a2dc6a30a14cc299"
  }
 ],
 "metadata": {},
 "nbformat": 5,
 "nbformat_minor": 9
}
