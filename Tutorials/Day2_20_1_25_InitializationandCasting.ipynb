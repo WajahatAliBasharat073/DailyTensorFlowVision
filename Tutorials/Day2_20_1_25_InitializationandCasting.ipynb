{
 "cells": [
  {
   "cell_type": "code",
   "execution_count": 52,
   "metadata": {},
   "outputs": [
    {
     "name": "stdout",
     "output_type": "stream",
     "text": [
      "tf.Tensor(\n",
      "[[[[ 1  2  3  4  5  6]\n",
      "   [ 1  2  3  4  5  7]]\n",
      "\n",
      "  [[ 1  2  3  4  5  9]\n",
      "   [ 1  2  3  4  5 10]]]\n",
      "\n",
      "\n",
      " [[[ 1  2  3  4  5  6]\n",
      "   [ 1  2  3  4  5  7]]\n",
      "\n",
      "  [[ 1  2  3  4  5  9]\n",
      "   [ 1  2  3  4  5 10]]]], shape=(2, 2, 2, 6), dtype=int32)\n"
     ]
    }
   ],
   "source": [
    "##create 4-D tensors\n",
    "import tensorflow as tf\n",
    "three_d_tensors = tf.constant([[[[1,2,3,4,5,6],[1,2,3,4,5,7]],[[1,2,3,4,5,9],[1,2,3,4,5,10]]],[[[1,2,3,4,5,6],[1,2,3,4,5,7]],[[1,2,3,4,5,9],[1,2,3,4,5,10]]]])\n",
    "print(three_d_tensors)\n"
   ]
  },
  {
   "cell_type": "markdown",
   "metadata": {},
   "source": [
    "### Eye\n",
    "- Construct an identity matrix, or a batch of matrices."
   ]
  },
  {
   "cell_type": "code",
   "execution_count": 53,
   "metadata": {},
   "outputs": [
    {
     "name": "stdout",
     "output_type": "stream",
     "text": [
      "tf.Tensor(\n",
      "[[1. 0. 0.]\n",
      " [0. 1. 0.]\n",
      " [0. 0. 1.]], shape=(3, 3), dtype=float32)\n"
     ]
    }
   ],
   "source": [
    "eyeTensor=tf.eye(\n",
    "    num_rows=3,\n",
    "    num_columns=None,\n",
    "    batch_shape=None,\n",
    "    dtype=tf.dtypes.float32,\n",
    "    name=None\n",
    ")\n",
    "print(eyeTensor)"
   ]
  },
  {
   "cell_type": "code",
   "execution_count": 54,
   "metadata": {},
   "outputs": [
    {
     "data": {
      "text/plain": [
       "<tf.Tensor: shape=(3, 4), dtype=float32, numpy=\n",
       "array([[1., 0., 0., 0.],\n",
       "       [0., 1., 0., 0.],\n",
       "       [0., 0., 1., 0.]], dtype=float32)>"
      ]
     },
     "execution_count": 54,
     "metadata": {},
     "output_type": "execute_result"
    }
   ],
   "source": [
    "tf.eye(\n",
    "    num_rows=3,\n",
    "    num_columns=4,\n",
    "    batch_shape=None,\n",
    "    dtype=tf.dtypes.float32,\n",
    "    name=None\n",
    ")"
   ]
  },
  {
   "cell_type": "code",
   "execution_count": 55,
   "metadata": {},
   "outputs": [
    {
     "name": "stdout",
     "output_type": "stream",
     "text": [
      "tf.Tensor(\n",
      "[[[1. 0. 0.]\n",
      "  [0. 1. 0.]\n",
      "  [0. 0. 1.]]\n",
      "\n",
      " [[1. 0. 0.]\n",
      "  [0. 1. 0.]\n",
      "  [0. 0. 1.]]\n",
      "\n",
      " [[1. 0. 0.]\n",
      "  [0. 1. 0.]\n",
      "  [0. 0. 1.]]], shape=(3, 3, 3), dtype=float32)\n"
     ]
    }
   ],
   "source": [
    "eyeTensor=tf.eye(\n",
    "    num_rows=3,\n",
    "    num_columns=None,\n",
    "    batch_shape=(3,),\n",
    "    dtype=tf.dtypes.float32,\n",
    "    name=None\n",
    ")\n",
    "print(eyeTensor)"
   ]
  },
  {
   "cell_type": "code",
   "execution_count": 56,
   "metadata": {},
   "outputs": [
    {
     "name": "stdout",
     "output_type": "stream",
     "text": [
      "tf.Tensor(\n",
      "[[[[1. 0. 0.]\n",
      "   [0. 1. 0.]\n",
      "   [0. 0. 1.]]\n",
      "\n",
      "  [[1. 0. 0.]\n",
      "   [0. 1. 0.]\n",
      "   [0. 0. 1.]]]\n",
      "\n",
      "\n",
      " [[[1. 0. 0.]\n",
      "   [0. 1. 0.]\n",
      "   [0. 0. 1.]]\n",
      "\n",
      "  [[1. 0. 0.]\n",
      "   [0. 1. 0.]\n",
      "   [0. 0. 1.]]]\n",
      "\n",
      "\n",
      " [[[1. 0. 0.]\n",
      "   [0. 1. 0.]\n",
      "   [0. 0. 1.]]\n",
      "\n",
      "  [[1. 0. 0.]\n",
      "   [0. 1. 0.]\n",
      "   [0. 0. 1.]]]\n",
      "\n",
      "\n",
      " [[[1. 0. 0.]\n",
      "   [0. 1. 0.]\n",
      "   [0. 0. 1.]]\n",
      "\n",
      "  [[1. 0. 0.]\n",
      "   [0. 1. 0.]\n",
      "   [0. 0. 1.]]]], shape=(4, 2, 3, 3), dtype=float32)\n"
     ]
    }
   ],
   "source": [
    "eyeTensor = tf.eye(\n",
    "    num_rows=3,\n",
    "    num_columns=None,\n",
    "    batch_shape=(4,2),\n",
    "    dtype=tf.dtypes.float32,\n",
    "    name=None\n",
    ")\n",
    "print(eyeTensor)"
   ]
  },
  {
   "cell_type": "code",
   "execution_count": 57,
   "metadata": {},
   "outputs": [
    {
     "name": "stdout",
     "output_type": "stream",
     "text": [
      "tf.Tensor(\n",
      "[[[[[1. 0. 0.]\n",
      "    [0. 1. 0.]\n",
      "    [0. 0. 1.]]\n",
      "\n",
      "   [[1. 0. 0.]\n",
      "    [0. 1. 0.]\n",
      "    [0. 0. 1.]]]\n",
      "\n",
      "\n",
      "  [[[1. 0. 0.]\n",
      "    [0. 1. 0.]\n",
      "    [0. 0. 1.]]\n",
      "\n",
      "   [[1. 0. 0.]\n",
      "    [0. 1. 0.]\n",
      "    [0. 0. 1.]]]\n",
      "\n",
      "\n",
      "  [[[1. 0. 0.]\n",
      "    [0. 1. 0.]\n",
      "    [0. 0. 1.]]\n",
      "\n",
      "   [[1. 0. 0.]\n",
      "    [0. 1. 0.]\n",
      "    [0. 0. 1.]]]]\n",
      "\n",
      "\n",
      "\n",
      " [[[[1. 0. 0.]\n",
      "    [0. 1. 0.]\n",
      "    [0. 0. 1.]]\n",
      "\n",
      "   [[1. 0. 0.]\n",
      "    [0. 1. 0.]\n",
      "    [0. 0. 1.]]]\n",
      "\n",
      "\n",
      "  [[[1. 0. 0.]\n",
      "    [0. 1. 0.]\n",
      "    [0. 0. 1.]]\n",
      "\n",
      "   [[1. 0. 0.]\n",
      "    [0. 1. 0.]\n",
      "    [0. 0. 1.]]]\n",
      "\n",
      "\n",
      "  [[[1. 0. 0.]\n",
      "    [0. 1. 0.]\n",
      "    [0. 0. 1.]]\n",
      "\n",
      "   [[1. 0. 0.]\n",
      "    [0. 1. 0.]\n",
      "    [0. 0. 1.]]]]\n",
      "\n",
      "\n",
      "\n",
      " [[[[1. 0. 0.]\n",
      "    [0. 1. 0.]\n",
      "    [0. 0. 1.]]\n",
      "\n",
      "   [[1. 0. 0.]\n",
      "    [0. 1. 0.]\n",
      "    [0. 0. 1.]]]\n",
      "\n",
      "\n",
      "  [[[1. 0. 0.]\n",
      "    [0. 1. 0.]\n",
      "    [0. 0. 1.]]\n",
      "\n",
      "   [[1. 0. 0.]\n",
      "    [0. 1. 0.]\n",
      "    [0. 0. 1.]]]\n",
      "\n",
      "\n",
      "  [[[1. 0. 0.]\n",
      "    [0. 1. 0.]\n",
      "    [0. 0. 1.]]\n",
      "\n",
      "   [[1. 0. 0.]\n",
      "    [0. 1. 0.]\n",
      "    [0. 0. 1.]]]]\n",
      "\n",
      "\n",
      "\n",
      " [[[[1. 0. 0.]\n",
      "    [0. 1. 0.]\n",
      "    [0. 0. 1.]]\n",
      "\n",
      "   [[1. 0. 0.]\n",
      "    [0. 1. 0.]\n",
      "    [0. 0. 1.]]]\n",
      "\n",
      "\n",
      "  [[[1. 0. 0.]\n",
      "    [0. 1. 0.]\n",
      "    [0. 0. 1.]]\n",
      "\n",
      "   [[1. 0. 0.]\n",
      "    [0. 1. 0.]\n",
      "    [0. 0. 1.]]]\n",
      "\n",
      "\n",
      "  [[[1. 0. 0.]\n",
      "    [0. 1. 0.]\n",
      "    [0. 0. 1.]]\n",
      "\n",
      "   [[1. 0. 0.]\n",
      "    [0. 1. 0.]\n",
      "    [0. 0. 1.]]]]\n",
      "\n",
      "\n",
      "\n",
      " [[[[1. 0. 0.]\n",
      "    [0. 1. 0.]\n",
      "    [0. 0. 1.]]\n",
      "\n",
      "   [[1. 0. 0.]\n",
      "    [0. 1. 0.]\n",
      "    [0. 0. 1.]]]\n",
      "\n",
      "\n",
      "  [[[1. 0. 0.]\n",
      "    [0. 1. 0.]\n",
      "    [0. 0. 1.]]\n",
      "\n",
      "   [[1. 0. 0.]\n",
      "    [0. 1. 0.]\n",
      "    [0. 0. 1.]]]\n",
      "\n",
      "\n",
      "  [[[1. 0. 0.]\n",
      "    [0. 1. 0.]\n",
      "    [0. 0. 1.]]\n",
      "\n",
      "   [[1. 0. 0.]\n",
      "    [0. 1. 0.]\n",
      "    [0. 0. 1.]]]]], shape=(5, 3, 2, 3, 3), dtype=float32)\n"
     ]
    }
   ],
   "source": [
    "eyeTensor_5d = tf.eye(\n",
    "    num_rows=3,\n",
    "    num_columns=None,\n",
    "    batch_shape=(5, 3,2),\n",
    "    dtype=tf.dtypes.float32,\n",
    "    name=None\n",
    ")\n",
    "print(eyeTensor_5d)"
   ]
  },
  {
   "cell_type": "code",
   "execution_count": 58,
   "metadata": {},
   "outputs": [
    {
     "name": "stdout",
     "output_type": "stream",
     "text": [
      "tf.Tensor(\n",
      "[[[[[1. 0. 0.]\n",
      "    [0. 1. 0.]\n",
      "    [0. 0. 1.]]\n",
      "\n",
      "   [[1. 0. 0.]\n",
      "    [0. 1. 0.]\n",
      "    [0. 0. 1.]]]\n",
      "\n",
      "\n",
      "  [[[1. 0. 0.]\n",
      "    [0. 1. 0.]\n",
      "    [0. 0. 1.]]\n",
      "\n",
      "   [[1. 0. 0.]\n",
      "    [0. 1. 0.]\n",
      "    [0. 0. 1.]]]\n",
      "\n",
      "\n",
      "  [[[1. 0. 0.]\n",
      "    [0. 1. 0.]\n",
      "    [0. 0. 1.]]\n",
      "\n",
      "   [[1. 0. 0.]\n",
      "    [0. 1. 0.]\n",
      "    [0. 0. 1.]]]]\n",
      "\n",
      "\n",
      "\n",
      " [[[[1. 0. 0.]\n",
      "    [0. 1. 0.]\n",
      "    [0. 0. 1.]]\n",
      "\n",
      "   [[1. 0. 0.]\n",
      "    [0. 1. 0.]\n",
      "    [0. 0. 1.]]]\n",
      "\n",
      "\n",
      "  [[[1. 0. 0.]\n",
      "    [0. 1. 0.]\n",
      "    [0. 0. 1.]]\n",
      "\n",
      "   [[1. 0. 0.]\n",
      "    [0. 1. 0.]\n",
      "    [0. 0. 1.]]]\n",
      "\n",
      "\n",
      "  [[[1. 0. 0.]\n",
      "    [0. 1. 0.]\n",
      "    [0. 0. 1.]]\n",
      "\n",
      "   [[1. 0. 0.]\n",
      "    [0. 1. 0.]\n",
      "    [0. 0. 1.]]]]\n",
      "\n",
      "\n",
      "\n",
      " [[[[1. 0. 0.]\n",
      "    [0. 1. 0.]\n",
      "    [0. 0. 1.]]\n",
      "\n",
      "   [[1. 0. 0.]\n",
      "    [0. 1. 0.]\n",
      "    [0. 0. 1.]]]\n",
      "\n",
      "\n",
      "  [[[1. 0. 0.]\n",
      "    [0. 1. 0.]\n",
      "    [0. 0. 1.]]\n",
      "\n",
      "   [[1. 0. 0.]\n",
      "    [0. 1. 0.]\n",
      "    [0. 0. 1.]]]\n",
      "\n",
      "\n",
      "  [[[1. 0. 0.]\n",
      "    [0. 1. 0.]\n",
      "    [0. 0. 1.]]\n",
      "\n",
      "   [[1. 0. 0.]\n",
      "    [0. 1. 0.]\n",
      "    [0. 0. 1.]]]]\n",
      "\n",
      "\n",
      "\n",
      " [[[[1. 0. 0.]\n",
      "    [0. 1. 0.]\n",
      "    [0. 0. 1.]]\n",
      "\n",
      "   [[1. 0. 0.]\n",
      "    [0. 1. 0.]\n",
      "    [0. 0. 1.]]]\n",
      "\n",
      "\n",
      "  [[[1. 0. 0.]\n",
      "    [0. 1. 0.]\n",
      "    [0. 0. 1.]]\n",
      "\n",
      "   [[1. 0. 0.]\n",
      "    [0. 1. 0.]\n",
      "    [0. 0. 1.]]]\n",
      "\n",
      "\n",
      "  [[[1. 0. 0.]\n",
      "    [0. 1. 0.]\n",
      "    [0. 0. 1.]]\n",
      "\n",
      "   [[1. 0. 0.]\n",
      "    [0. 1. 0.]\n",
      "    [0. 0. 1.]]]]\n",
      "\n",
      "\n",
      "\n",
      " [[[[1. 0. 0.]\n",
      "    [0. 1. 0.]\n",
      "    [0. 0. 1.]]\n",
      "\n",
      "   [[1. 0. 0.]\n",
      "    [0. 1. 0.]\n",
      "    [0. 0. 1.]]]\n",
      "\n",
      "\n",
      "  [[[1. 0. 0.]\n",
      "    [0. 1. 0.]\n",
      "    [0. 0. 1.]]\n",
      "\n",
      "   [[1. 0. 0.]\n",
      "    [0. 1. 0.]\n",
      "    [0. 0. 1.]]]\n",
      "\n",
      "\n",
      "  [[[1. 0. 0.]\n",
      "    [0. 1. 0.]\n",
      "    [0. 0. 1.]]\n",
      "\n",
      "   [[1. 0. 0.]\n",
      "    [0. 1. 0.]\n",
      "    [0. 0. 1.]]]]], shape=(5, 3, 2, 3, 3), dtype=float32)\n"
     ]
    }
   ],
   "source": [
    "eyeTensor_5d = tf.eye(\n",
    "    num_rows=3,\n",
    "    num_columns=None,\n",
    "    batch_shape=(5, 3, 2),\n",
    "    dtype=tf.dtypes.float32,\n",
    "    name='5d'\n",
    ")\n",
    "print(eyeTensor_5d)"
   ]
  },
  {
   "cell_type": "markdown",
   "metadata": {},
   "source": [
    "### Fill\n",
    "- Creates a tensor filled with a scalar value."
   ]
  },
  {
   "cell_type": "code",
   "execution_count": 59,
   "metadata": {},
   "outputs": [
    {
     "data": {
      "text/plain": [
       "<tf.Tensor: shape=(2, 4), dtype=int32, numpy=\n",
       "array([[9, 9, 9, 9],\n",
       "       [9, 9, 9, 9]], dtype=int32)>"
      ]
     },
     "execution_count": 59,
     "metadata": {},
     "output_type": "execute_result"
    }
   ],
   "source": [
    "fillTensor=tf.fill(\n",
    "    dims=[2,4], value=9, name=None, layout=None\n",
    ")\n",
    "fillTensor"
   ]
  },
  {
   "cell_type": "code",
   "execution_count": 60,
   "metadata": {},
   "outputs": [
    {
     "name": "stdout",
     "output_type": "stream",
     "text": [
      "2.18.0\n"
     ]
    }
   ],
   "source": [
    "import tensorflow as tf\n",
    "print(tf.__version__)"
   ]
  },
  {
   "cell_type": "markdown",
   "metadata": {},
   "source": [
    "## Tensors with specific values\n",
    "- zeros\n",
    "- ones\n",
    "- zeros_like\n",
    "- ones_like"
   ]
  },
  {
   "cell_type": "code",
   "execution_count": 61,
   "metadata": {},
   "outputs": [
    {
     "data": {
      "text/plain": [
       "<tf.Tensor: shape=(2, 6), dtype=float32, numpy=\n",
       "array([[0., 0., 0., 0., 0., 0.],\n",
       "       [0., 0., 0., 0., 0., 0.]], dtype=float32)>"
      ]
     },
     "execution_count": 61,
     "metadata": {},
     "output_type": "execute_result"
    }
   ],
   "source": [
    "zero_dim=tf.zeros([2,6],tf.float32)\n",
    "zero_dim"
   ]
  },
  {
   "cell_type": "markdown",
   "metadata": {},
   "source": [
    "- When you have an existing tensor and want to create another tensor with the same shape and optionally the same or a different data type"
   ]
  },
  {
   "cell_type": "code",
   "execution_count": 62,
   "metadata": {},
   "outputs": [
    {
     "name": "stdout",
     "output_type": "stream",
     "text": [
      "tf.Tensor(\n",
      "[[[ 1  2  3]\n",
      "  [ 4  5  6]]\n",
      "\n",
      " [[ 6  7  8]\n",
      "  [ 9 10 11]]], shape=(2, 2, 3), dtype=int32)\n",
      "tf.Tensor(\n",
      "[[[0 0 0]\n",
      "  [0 0 0]]\n",
      "\n",
      " [[0 0 0]\n",
      "  [0 0 0]]], shape=(2, 2, 3), dtype=int32)\n"
     ]
    }
   ],
   "source": [
    "orignalTensor=tf.constant([[[1,2,3], [4,5,6]],[[6,7,8],[9,10,11]]])\n",
    "print(orignalTensor)\n",
    "zeros_lik=tf.zeros_like(orignalTensor)\n",
    "print(zeros_lik)"
   ]
  },
  {
   "cell_type": "markdown",
   "metadata": {},
   "source": [
    "- ones and ones_like"
   ]
  },
  {
   "cell_type": "code",
   "execution_count": 63,
   "metadata": {},
   "outputs": [
    {
     "data": {
      "text/plain": [
       "<tf.Tensor: shape=(3, 4), dtype=int32, numpy=\n",
       "array([[1, 1, 1, 1],\n",
       "       [1, 1, 1, 1],\n",
       "       [1, 1, 1, 1]], dtype=int32)>"
      ]
     },
     "execution_count": 63,
     "metadata": {},
     "output_type": "execute_result"
    }
   ],
   "source": [
    "onesTensor=tf.ones([3,4], dtype=tf.int32)\n",
    "onesTensor"
   ]
  },
  {
   "cell_type": "code",
   "execution_count": 64,
   "metadata": {},
   "outputs": [
    {
     "name": "stdout",
     "output_type": "stream",
     "text": [
      "tf.Tensor(\n",
      "[[1 3 8]\n",
      " [1 2 1]], shape=(2, 3), dtype=int32)\n",
      "tf.Tensor(\n",
      "[[1 1 1]\n",
      " [1 1 1]], shape=(2, 3), dtype=int32)\n"
     ]
    }
   ],
   "source": [
    "##ones_like\n",
    "origanl_like=tf.constant([[1,3,8],[1,2,1]])\n",
    "ones_like=tf.ones_like(origanl_like)\n",
    "print(origanl_like)\n",
    "print(ones_like)"
   ]
  },
  {
   "cell_type": "markdown",
   "metadata": {},
   "source": [
    "- shape"
   ]
  },
  {
   "cell_type": "code",
   "execution_count": 65,
   "metadata": {},
   "outputs": [
    {
     "data": {
      "text/plain": [
       "<tf.Tensor: shape=(3,), dtype=int32, numpy=array([2, 2, 3], dtype=int32)>"
      ]
     },
     "execution_count": 65,
     "metadata": {},
     "output_type": "execute_result"
    }
   ],
   "source": [
    "shapeofTensor=tf.shape(orignalTensor)\n",
    "shapeofTensor"
   ]
  },
  {
   "cell_type": "markdown",
   "metadata": {},
   "source": [
    "- rank"
   ]
  },
  {
   "cell_type": "code",
   "execution_count": 66,
   "metadata": {},
   "outputs": [
    {
     "data": {
      "text/plain": [
       "<tf.Tensor: shape=(), dtype=int32, numpy=3>"
      ]
     },
     "execution_count": 66,
     "metadata": {},
     "output_type": "execute_result"
    }
   ],
   "source": [
    "rankofTensor=tf.rank(orignalTensor)\n",
    "rankofTensor"
   ]
  },
  {
   "cell_type": "markdown",
   "metadata": {},
   "source": [
    "- size"
   ]
  },
  {
   "cell_type": "code",
   "execution_count": 67,
   "metadata": {},
   "outputs": [
    {
     "data": {
      "text/plain": [
       "<tf.Tensor: shape=(), dtype=int32, numpy=12>"
      ]
     },
     "execution_count": 67,
     "metadata": {},
     "output_type": "execute_result"
    }
   ],
   "source": [
    "sizeofTensor=tf.size(orignalTensor)\n",
    "sizeofTensor"
   ]
  },
  {
   "cell_type": "markdown",
   "metadata": {},
   "source": [
    "- random.normal\n",
    "- (output  random variable from a normal distribution)\n",
    "- [Probability Playgorund for demonstration](https://www.acsu.buffalo.edu/~adamcunn/probability/normal.html)\n",
    "\n"
   ]
  },
  {
   "cell_type": "code",
   "execution_count": 68,
   "metadata": {},
   "outputs": [
    {
     "data": {
      "text/plain": [
       "<tf.Tensor: shape=(4, 4), dtype=float32, numpy=\n",
       "array([[ 2.8985982, 10.05975  , 11.844283 ,  5.01675  ],\n",
       "       [ 5.2003436,  4.5531597,  9.529091 ,  6.539132 ],\n",
       "       [ 5.0884   ,  4.447166 ,  9.686844 ,  8.696581 ],\n",
       "       [ 1.7559247,  1.5903668,  4.8026075,  9.673285 ]], dtype=float32)>"
      ]
     },
     "execution_count": 68,
     "metadata": {},
     "output_type": "execute_result"
    }
   ],
   "source": [
    "randomNormal=tf.random.normal(shape=[4,4], mean=6, stddev=2.5, dtype=tf.float32)\n",
    "randomNormal"
   ]
  },
  {
   "cell_type": "code",
   "execution_count": 69,
   "metadata": {},
   "outputs": [
    {
     "data": {
      "text/plain": [
       "<tf.Tensor: shape=(4, 4), dtype=float32, numpy=\n",
       "array([[-0.26303658, -1.1443406 , -0.8058413 , -0.73540556],\n",
       "       [ 0.56451166, -0.91590625, -1.7288088 , -0.34491003],\n",
       "       [ 0.34803656, -1.0401156 ,  0.6399822 ,  0.6623956 ],\n",
       "       [ 1.2296424 , -0.05659237,  0.1577653 , -2.0245996 ]],\n",
       "      dtype=float32)>"
      ]
     },
     "execution_count": 69,
     "metadata": {},
     "output_type": "execute_result"
    }
   ],
   "source": [
    "randomNormal = tf.random.normal(\n",
    "    shape=[4, 4], mean=0, stddev=1, dtype=tf.float32)\n",
    "randomNormal"
   ]
  },
  {
   "cell_type": "markdown",
   "metadata": {},
   "source": [
    "- uniform distribution\n",
    "- Outputs random values from a uniform distribution.\n",
    "- [Random seed documentation](https://www.tensorflow.org/api_docs/python/tf/random/set_seed)\n",
    "- [Probablity playgorund uniform distribution](https://www.acsu.buffalo.edu/~adamcunn/probability/uniform.html)\n"
   ]
  },
  {
   "cell_type": "code",
   "execution_count": 70,
   "metadata": {},
   "outputs": [
    {
     "data": {
      "text/plain": [
       "<tf.Tensor: shape=(3, 4), dtype=float32, numpy=\n",
       "array([[0.39864278, 0.26447988, 0.48921978, 0.4829476 ],\n",
       "       [0.9550551 , 0.20790255, 0.86026704, 0.59308374],\n",
       "       [0.22122741, 0.2750126 , 0.95550156, 0.10000169]], dtype=float32)>"
      ]
     },
     "execution_count": 70,
     "metadata": {},
     "output_type": "execute_result"
    }
   ],
   "source": [
    "uniformTensor=tf.random.uniform(\n",
    "    [3,4],\n",
    "    minval=0,\n",
    "    maxval=None,\n",
    "    dtype=tf.dtypes.float32,\n",
    "    seed=None,\n",
    "    name=None\n",
    ")\n",
    "uniformTensor"
   ]
  },
  {
   "cell_type": "code",
   "execution_count": 71,
   "metadata": {},
   "outputs": [
    {
     "data": {
      "text/plain": [
       "<tf.Tensor: shape=(3, 4), dtype=float32, numpy=\n",
       "array([[1.5624285 , 4.353036  , 1.7336094 , 2.2332935 ],\n",
       "       [1.6068149 , 2.5753593 , 0.02889872, 0.9798908 ],\n",
       "       [4.7639666 , 0.95997214, 3.9297538 , 3.1661904 ]], dtype=float32)>"
      ]
     },
     "execution_count": 71,
     "metadata": {},
     "output_type": "execute_result"
    }
   ],
   "source": [
    "uniformTensor = tf.random.uniform(\n",
    "    [3, 4],\n",
    "    minval=0,\n",
    "    maxval=5,\n",
    "    dtype=tf.dtypes.float32,\n",
    "    seed=None,\n",
    "    name=None\n",
    ")\n",
    "uniformTensor"
   ]
  },
  {
   "cell_type": "code",
   "execution_count": 72,
   "metadata": {},
   "outputs": [
    {
     "data": {
      "text/plain": [
       "<tf.Tensor: shape=(3, 4), dtype=int32, numpy=\n",
       "array([[3, 3, 3, 3],\n",
       "       [3, 4, 0, 4],\n",
       "       [3, 4, 1, 0]], dtype=int32)>"
      ]
     },
     "execution_count": 72,
     "metadata": {},
     "output_type": "execute_result"
    }
   ],
   "source": [
    "uniformTensor = tf.random.uniform(\n",
    "    [3, 4],\n",
    "    minval=0,\n",
    "    maxval=5,\n",
    "    dtype=tf.dtypes.int32,\n",
    "    seed=None,\n",
    "    name=None\n",
    ")\n",
    "uniformTensor"
   ]
  },
  {
   "cell_type": "code",
   "execution_count": 73,
   "metadata": {},
   "outputs": [
    {
     "name": "stdout",
     "output_type": "stream",
     "text": [
      "tf.Tensor([9 3 6], shape=(3,), dtype=int32)\n",
      "tf.Tensor([9 3 2], shape=(3,), dtype=int32)\n",
      "tf.Tensor([1 1 1], shape=(3,), dtype=int32)\n",
      "tf.Tensor([1 3 3], shape=(3,), dtype=int32)\n"
     ]
    }
   ],
   "source": [
    "tf.random.set_seed(5)\n",
    "print(tf.random.uniform([3,],minval=0,maxval=10,dtype=tf.int32,seed=10))\n",
    "print(tf.random.uniform([3,],minval=0,maxval=10,dtype=tf.int32,seed=10))\n",
    "print(tf.random.uniform([3,],minval=0,maxval=10,dtype=tf.int32,seed=10))\n",
    "print(tf.random.uniform([3,],minval=0,maxval=10,dtype=tf.int32,seed=10))"
   ]
  },
  {
   "cell_type": "code",
   "execution_count": 74,
   "metadata": {},
   "outputs": [
    {
     "name": "stdout",
     "output_type": "stream",
     "text": [
      "tf.Tensor([9 3 6], shape=(3,), dtype=int32)\n",
      "tf.Tensor([9 3 2], shape=(3,), dtype=int32)\n",
      "tf.Tensor([1 1 1], shape=(3,), dtype=int32)\n",
      "tf.Tensor([1 3 3], shape=(3,), dtype=int32)\n"
     ]
    }
   ],
   "source": [
    "tf.random.set_seed(5)\n",
    "print(tf.random.uniform([3,], minval=0, maxval=10, dtype=tf.int32, seed=10))\n",
    "print(tf.random.uniform([3,], minval=0, maxval=10, dtype=tf.int32, seed=10))\n",
    "print(tf.random.uniform([3,], minval=0, maxval=10, dtype=tf.int32, seed=10))\n",
    "print(tf.random.uniform([3,], minval=0, maxval=10,  dtype=tf.int32,   seed=10))"
   ]
  },
  {
   "cell_type": "code",
   "execution_count": 75,
   "metadata": {},
   "outputs": [
    {
     "name": "stdout",
     "output_type": "stream",
     "text": [
      "tf.Tensor([0 1 8], shape=(3,), dtype=int32)\n",
      "tf.Tensor([7 4 0], shape=(3,), dtype=int32)\n",
      "tf.Tensor([9 6 5], shape=(3,), dtype=int32)\n",
      "tf.Tensor([3 9 1], shape=(3,), dtype=int32)\n"
     ]
    }
   ],
   "source": [
    "tf.random.set_seed(5)\n",
    "print(tf.random.uniform([3,], minval=0, maxval=10, dtype=tf.int32))\n",
    "print(tf.random.uniform([3,], minval=0, maxval=10, dtype=tf.int32))\n",
    "print(tf.random.uniform([3,], minval=0, maxval=10, dtype=tf.int32))\n",
    "print(tf.random.uniform([3,], minval=0,maxval=10,dtype=tf.int32))"
   ]
  },
  {
   "cell_type": "code",
   "execution_count": 76,
   "metadata": {},
   "outputs": [
    {
     "name": "stdout",
     "output_type": "stream",
     "text": [
      "tf.Tensor([0 1 8], shape=(3,), dtype=int32)\n",
      "tf.Tensor([7 4 0], shape=(3,), dtype=int32)\n",
      "tf.Tensor([9 6 5], shape=(3,), dtype=int32)\n",
      "tf.Tensor([3 9 1], shape=(3,), dtype=int32)\n"
     ]
    },
    {
     "ename": "",
     "evalue": "",
     "output_type": "error",
     "traceback": [
      "\u001b[1;31mThe Kernel crashed while executing code in the current cell or a previous cell. \n",
      "\u001b[1;31mPlease review the code in the cell(s) to identify a possible cause of the failure. \n",
      "\u001b[1;31mClick <a href='https://aka.ms/vscodeJupyterKernelCrash'>here</a> for more info. \n",
      "\u001b[1;31mView Jupyter <a href='command:jupyter.viewOutput'>log</a> for further details."
     ]
    }
   ],
   "source": [
    "tf.random.set_seed(5)\n",
    "print(tf.random.uniform([3,], minval=0, maxval=10, dtype=tf.int32))\n",
    "print(tf.random.uniform([3,], minval=0, maxval=10, dtype=tf.int32))\n",
    "print(tf.random.uniform([3,], minval=0, maxval=10, dtype=tf.int32))\n",
    "print(tf.random.uniform([3,], minval=0, maxval=10,dtype=tf.int32))"
   ]
  },
  {
   "cell_type": "markdown",
   "metadata": {},
   "source": [
    "- Cast fuction"
   ]
  },
  {
   "cell_type": "code",
   "execution_count": null,
   "metadata": {},
   "outputs": [],
   "source": []
  },
  {
   "cell_type": "code",
   "execution_count": null,
   "metadata": {},
   "outputs": [],
   "source": []
  },
  {
   "cell_type": "code",
   "execution_count": null,
   "metadata": {},
   "outputs": [],
   "source": []
  },
  {
   "cell_type": "code",
   "execution_count": null,
   "metadata": {},
   "outputs": [],
   "source": []
  },
  {
   "cell_type": "code",
   "execution_count": null,
   "metadata": {},
   "outputs": [],
   "source": []
  }
 ],
 "metadata": {
  "kernelspec": {
   "display_name": "TF_CV",
   "language": "python",
   "name": "python3"
  },
  "language_info": {
   "codemirror_mode": {
    "name": "ipython",
    "version": 3
   },
   "file_extension": ".py",
   "mimetype": "text/x-python",
   "name": "python",
   "nbconvert_exporter": "python",
   "pygments_lexer": "ipython3",
   "version": "3.10.0"
  }
 },
 "nbformat": 4,
 "nbformat_minor": 2
}
