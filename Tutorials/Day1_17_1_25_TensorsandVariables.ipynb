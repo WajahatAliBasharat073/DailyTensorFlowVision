{
  "nbformat": 4,
  "nbformat_minor": 0,
  "metadata": {
    "colab": {
      "provenance": []
    },
    "kernelspec": {
      "name": "python3",
      "display_name": "Python 3"
    },
    "language_info": {
      "name": "python"
    }
  },
  "cells": [
    {
      "cell_type": "code",
      "execution_count": null,
      "metadata": {
        "id": "i4NekumGTTeD"
      },
      "outputs": [],
      "source": [
        "import tensorflow as  tf"
      ]
    },
    {
      "cell_type": "code",
      "source": [
        "zero_d=tf.constant(5)\n",
        "print(zero_d)"
      ],
      "metadata": {
        "colab": {
          "base_uri": "https://localhost:8080/"
        },
        "id": "TK7rBdI-Ttmb",
        "outputId": "89e40950-a58b-4248-96a7-450725647780"
      },
      "execution_count": null,
      "outputs": [
        {
          "output_type": "stream",
          "name": "stdout",
          "text": [
            "tf.Tensor(5, shape=(), dtype=int32)\n"
          ]
        }
      ]
    },
    {
      "cell_type": "code",
      "source": [
        "one_d=tf.constant([1,23,4,6,86])\n",
        "print(one_d)"
      ],
      "metadata": {
        "colab": {
          "base_uri": "https://localhost:8080/"
        },
        "id": "ZITjXO0lUC14",
        "outputId": "8454d9c5-69d9-4edb-cbe0-a2a2da135f9c"
      },
      "execution_count": null,
      "outputs": [
        {
          "output_type": "stream",
          "name": "stdout",
          "text": [
            "tf.Tensor([ 1 23  4  6 86], shape=(5,), dtype=int32)\n"
          ]
        }
      ]
    },
    {
      "cell_type": "code",
      "source": [
        "one_d=tf.constant([1,-23,86,97])\n",
        "print(one_d)"
      ],
      "metadata": {
        "colab": {
          "base_uri": "https://localhost:8080/"
        },
        "id": "EDW6rAG4UWOa",
        "outputId": "1a8ec5a2-d133-415e-f944-f1749c02c025"
      },
      "execution_count": null,
      "outputs": [
        {
          "output_type": "stream",
          "name": "stdout",
          "text": [
            "tf.Tensor([  1 -23  86  97], shape=(4,), dtype=int32)\n"
          ]
        }
      ]
    },
    {
      "cell_type": "code",
      "source": [
        "one_d=tf.constant([1,23,1.4,6,86])\n",
        "print(one_d)"
      ],
      "metadata": {
        "colab": {
          "base_uri": "https://localhost:8080/"
        },
        "id": "uSjU3FPgUfJm",
        "outputId": "ff8b99d2-da02-41c5-95cc-79cd4ffd98bd"
      },
      "execution_count": null,
      "outputs": [
        {
          "output_type": "stream",
          "name": "stdout",
          "text": [
            "tf.Tensor([ 1.  23.   1.4  6.  86. ], shape=(5,), dtype=float32)\n"
          ]
        }
      ]
    },
    {
      "cell_type": "code",
      "source": [
        "## several one-d  tensors  combine to  form two-d tensors\n",
        "two_d=tf.constant(\n",
        "    [[1,2,3,4],\n",
        "     [6,7,8,9]]\n",
        ")\n",
        "print(two_d)"
      ],
      "metadata": {
        "colab": {
          "base_uri": "https://localhost:8080/"
        },
        "id": "cfREZ0N9Ui_x",
        "outputId": "e86b43b7-843d-4563-c361-782064699966"
      },
      "execution_count": null,
      "outputs": [
        {
          "output_type": "stream",
          "name": "stdout",
          "text": [
            "tf.Tensor(\n",
            "[[1 2 3 4]\n",
            " [6 7 8 9]], shape=(2, 4), dtype=int32)\n"
          ]
        }
      ]
    },
    {
      "cell_type": "code",
      "source": [
        "## several two-d  tensors  combine to  form three-d tensors\n",
        "three_d=tf.constant([\n",
        "    [[1,2,3,4],\n",
        "     [6,7,8,9]],\n",
        "    [[6,8,4,1],\n",
        "     [7,8,7,2]]\n",
        "]\n",
        ")\n",
        "print(three_d)"
      ],
      "metadata": {
        "colab": {
          "base_uri": "https://localhost:8080/"
        },
        "id": "uiw5RlU4U0KE",
        "outputId": "2266b457-e399-423e-e8f0-dbc2abedcc3d"
      },
      "execution_count": null,
      "outputs": [
        {
          "output_type": "stream",
          "name": "stdout",
          "text": [
            "tf.Tensor(\n",
            "[[[1 2 3 4]\n",
            "  [6 7 8 9]]\n",
            "\n",
            " [[6 8 4 1]\n",
            "  [7 8 7 2]]], shape=(2, 2, 4), dtype=int32)\n"
          ]
        }
      ]
    },
    {
      "cell_type": "code",
      "source": [],
      "metadata": {
        "id": "-oeQwcbFVT9t"
      },
      "execution_count": null,
      "outputs": []
    },
    {
      "cell_type": "markdown",
      "source": [
        "**Methods of Declaring Tensors**\n",
        "\n",
        "\n",
        "1.   Using Constant\n",
        "2.   Using numpy\n",
        "3.   Using Random Values\n",
        "4.   Tensors with Specific Values\n",
        "5.   Identity and Diagonal Tensors\n",
        "6.   Using Sequences\n",
        "7.   Tensor Transformations\n",
        "8.   Ragged Tensors\n",
        "9.   Sparse Tensors\n",
        "10.  Initialization from Existing Data\n",
        "\n",
        "\n"
      ],
      "metadata": {
        "id": "mPi1TEZA2dVm"
      }
    },
    {
      "cell_type": "markdown",
      "source": [
        "**Using numpy**"
      ],
      "metadata": {
        "id": "uLHmg8o53zFg"
      }
    },
    {
      "cell_type": "code",
      "source": [
        "import numpy as np\n",
        "check=np.array([[1,2,3,4],[6,7,8,9]])\n",
        "# print(check.dtype)\n",
        "check"
      ],
      "metadata": {
        "colab": {
          "base_uri": "https://localhost:8080/"
        },
        "id": "UH_r60L63w7U",
        "outputId": "1c318f78-a064-44a3-f87b-785e90368c80"
      },
      "execution_count": null,
      "outputs": [
        {
          "output_type": "execute_result",
          "data": {
            "text/plain": [
              "array([[1, 2, 3, 4],\n",
              "       [6, 7, 8, 9]])"
            ]
          },
          "metadata": {},
          "execution_count": 18
        }
      ]
    },
    {
      "cell_type": "code",
      "source": [
        "## now convert it into tensors\n",
        "convert_to_tensor=tf.convert_to_tensor(check)\n",
        "convert_to_tensor"
      ],
      "metadata": {
        "colab": {
          "base_uri": "https://localhost:8080/"
        },
        "id": "Un3qiGxP4U_6",
        "outputId": "1d826e2e-09bb-4721-992a-cf324afdf954"
      },
      "execution_count": null,
      "outputs": [
        {
          "output_type": "execute_result",
          "data": {
            "text/plain": [
              "<tf.Tensor: shape=(2, 4), dtype=int64, numpy=\n",
              "array([[1, 2, 3, 4],\n",
              "       [6, 7, 8, 9]])>"
            ]
          },
          "metadata": {},
          "execution_count": 19
        }
      ]
    },
    {
      "cell_type": "markdown",
      "source": [
        "**Using Random Values**"
      ],
      "metadata": {
        "id": "1F1fu9hE5ZfY"
      }
    },
    {
      "cell_type": "code",
      "source": [
        "randomVal=tf.random.uniform([2,4],maxval=10, dtype=tf.int32)\n",
        "randomVal"
      ],
      "metadata": {
        "colab": {
          "base_uri": "https://localhost:8080/"
        },
        "id": "JvdAkRnz5VL6",
        "outputId": "80b50dae-0de0-4b46-aa8b-d5a5697a2c9c"
      },
      "execution_count": null,
      "outputs": [
        {
          "output_type": "execute_result",
          "data": {
            "text/plain": [
              "<tf.Tensor: shape=(2, 4), dtype=int32, numpy=\n",
              "array([[0, 9, 1, 3],\n",
              "       [2, 8, 3, 3]], dtype=int32)>"
            ]
          },
          "metadata": {},
          "execution_count": 25
        }
      ]
    },
    {
      "cell_type": "code",
      "source": [
        "tensor = tf.random.normal([2, 3], mean=0, stddev=1)\n",
        "tensor"
      ],
      "metadata": {
        "colab": {
          "base_uri": "https://localhost:8080/"
        },
        "id": "P7Cyi3BC508I",
        "outputId": "c0b97bcf-0a4c-4ac0-ffa9-55d8d4031607"
      },
      "execution_count": null,
      "outputs": [
        {
          "output_type": "execute_result",
          "data": {
            "text/plain": [
              "<tf.Tensor: shape=(2, 3), dtype=float32, numpy=\n",
              "array([[-0.84870386,  0.70013887,  0.34830484],\n",
              "       [-0.0049282 , -1.0184722 , -0.893198  ]], dtype=float32)>"
            ]
          },
          "metadata": {},
          "execution_count": 26
        }
      ]
    },
    {
      "cell_type": "code",
      "source": [],
      "metadata": {
        "id": "oNY6xAY261IV"
      },
      "execution_count": null,
      "outputs": []
    },
    {
      "cell_type": "markdown",
      "source": [
        "**Tensors with specific value**"
      ],
      "metadata": {
        "id": "RX_-kCeQ65vp"
      }
    },
    {
      "cell_type": "code",
      "source": [
        "zero_d=tf.zeros([2,3])\n",
        "zero_d"
      ],
      "metadata": {
        "colab": {
          "base_uri": "https://localhost:8080/"
        },
        "id": "LKqsfD0O7EE5",
        "outputId": "e67c2acd-2de5-4944-e6d3-61a045ad000c"
      },
      "execution_count": null,
      "outputs": [
        {
          "output_type": "execute_result",
          "data": {
            "text/plain": [
              "<tf.Tensor: shape=(2, 3), dtype=float32, numpy=\n",
              "array([[0., 0., 0.],\n",
              "       [0., 0., 0.]], dtype=float32)>"
            ]
          },
          "metadata": {},
          "execution_count": 29
        }
      ]
    },
    {
      "cell_type": "code",
      "source": [
        "one_d=tf.ones([2,3])\n",
        "one_d"
      ],
      "metadata": {
        "colab": {
          "base_uri": "https://localhost:8080/"
        },
        "id": "M6KMwimC7NZb",
        "outputId": "a0fb3308-8c9d-4c9d-e2d2-e80e80518bd0"
      },
      "execution_count": null,
      "outputs": [
        {
          "output_type": "execute_result",
          "data": {
            "text/plain": [
              "<tf.Tensor: shape=(2, 3), dtype=float32, numpy=\n",
              "array([[1., 1., 1.],\n",
              "       [1., 1., 1.]], dtype=float32)>"
            ]
          },
          "metadata": {},
          "execution_count": 30
        }
      ]
    },
    {
      "cell_type": "code",
      "source": [
        "fill_d=tf.fill([4,4],7)\n",
        "fill_d"
      ],
      "metadata": {
        "colab": {
          "base_uri": "https://localhost:8080/"
        },
        "id": "7v9LJxiH7YoH",
        "outputId": "0b8b3120-4721-4bc3-99bd-0c53948d6470"
      },
      "execution_count": null,
      "outputs": [
        {
          "output_type": "execute_result",
          "data": {
            "text/plain": [
              "<tf.Tensor: shape=(4, 4), dtype=int32, numpy=\n",
              "array([[7, 7, 7, 7],\n",
              "       [7, 7, 7, 7],\n",
              "       [7, 7, 7, 7],\n",
              "       [7, 7, 7, 7]], dtype=int32)>"
            ]
          },
          "metadata": {},
          "execution_count": 33
        }
      ]
    },
    {
      "cell_type": "code",
      "source": [
        "tensorwithRange = tf.range(0, 10, 2)\n",
        "tensorwithRange"
      ],
      "metadata": {
        "colab": {
          "base_uri": "https://localhost:8080/"
        },
        "id": "voCzlmVV7jXA",
        "outputId": "4c05edad-d866-4c65-cec6-ae492d064191"
      },
      "execution_count": null,
      "outputs": [
        {
          "output_type": "execute_result",
          "data": {
            "text/plain": [
              "<tf.Tensor: shape=(5,), dtype=int32, numpy=array([0, 2, 4, 6, 8], dtype=int32)>"
            ]
          },
          "metadata": {},
          "execution_count": 34
        }
      ]
    },
    {
      "cell_type": "code",
      "source": [],
      "metadata": {
        "id": "b20AIE7l70DJ"
      },
      "execution_count": null,
      "outputs": []
    },
    {
      "cell_type": "markdown",
      "source": [
        "**Identify diagonal**"
      ],
      "metadata": {
        "id": "C1jspxgI7_AE"
      }
    },
    {
      "cell_type": "code",
      "source": [
        "dia=tf.eye(3)\n",
        "dia"
      ],
      "metadata": {
        "colab": {
          "base_uri": "https://localhost:8080/"
        },
        "id": "SqM_orkJ8E2Y",
        "outputId": "9d7d4d8b-cc22-48f7-e25f-1a029f60c83d"
      },
      "execution_count": null,
      "outputs": [
        {
          "output_type": "execute_result",
          "data": {
            "text/plain": [
              "<tf.Tensor: shape=(3, 3), dtype=float32, numpy=\n",
              "array([[1., 0., 0.],\n",
              "       [0., 1., 0.],\n",
              "       [0., 0., 1.]], dtype=float32)>"
            ]
          },
          "metadata": {},
          "execution_count": 36
        }
      ]
    },
    {
      "cell_type": "code",
      "source": [
        "# tf.linalg.diag(): Tensor with specified diagonal values\n",
        "specifieddiagonalvalues=tf.linalg.diag([1,2,3])\n",
        "specifieddiagonalvalues"
      ],
      "metadata": {
        "colab": {
          "base_uri": "https://localhost:8080/"
        },
        "id": "oV--12Ux8I7N",
        "outputId": "10a1a867-4808-4c14-e66b-f33ed4aba5bb"
      },
      "execution_count": null,
      "outputs": [
        {
          "output_type": "execute_result",
          "data": {
            "text/plain": [
              "<tf.Tensor: shape=(3, 3), dtype=int32, numpy=\n",
              "array([[1, 0, 0],\n",
              "       [0, 2, 0],\n",
              "       [0, 0, 3]], dtype=int32)>"
            ]
          },
          "metadata": {},
          "execution_count": 39
        }
      ]
    },
    {
      "cell_type": "code",
      "source": [],
      "metadata": {
        "id": "x06R0X2e8aAC"
      },
      "execution_count": null,
      "outputs": []
    },
    {
      "cell_type": "markdown",
      "source": [
        "**Using Sequance**\n"
      ],
      "metadata": {
        "id": "Ib-qmYfj8qe_"
      }
    },
    {
      "cell_type": "code",
      "source": [
        "# tf.linspace(): Linearly spaced values between a start and an end point.\n",
        "tensor = tf.linspace(0.0, 10.0, num=5)\n",
        "tensor"
      ],
      "metadata": {
        "colab": {
          "base_uri": "https://localhost:8080/"
        },
        "id": "XGBtGNh08t51",
        "outputId": "cc12c0ea-d3ab-43e0-9146-a41d293274d9"
      },
      "execution_count": null,
      "outputs": [
        {
          "output_type": "execute_result",
          "data": {
            "text/plain": [
              "<tf.Tensor: shape=(5,), dtype=float32, numpy=array([ 0. ,  2.5,  5. ,  7.5, 10. ], dtype=float32)>"
            ]
          },
          "metadata": {},
          "execution_count": 40
        }
      ]
    },
    {
      "cell_type": "code",
      "source": [],
      "metadata": {
        "id": "NaSbr92t81k0"
      },
      "execution_count": null,
      "outputs": []
    },
    {
      "cell_type": "markdown",
      "source": [
        "**Tensor Transformations**"
      ],
      "metadata": {
        "id": "qkOWr_5p89t5"
      }
    },
    {
      "cell_type": "code",
      "source": [
        "tensor = tf.constant([[1, 2, 3], [4, 5, 6]])\n",
        "reshaped = tf.reshape(tensor, [3, 2])\n",
        "print(tensor)\n",
        "print(reshaped)\n",
        "# reshaped3=tf.reshape(tensor,[3,3])\n",
        "# print(reshaped3)"
      ],
      "metadata": {
        "colab": {
          "base_uri": "https://localhost:8080/"
        },
        "id": "RYdFXMya8_wi",
        "outputId": "33b7ca38-a203-4737-fa99-50c6779c1272"
      },
      "execution_count": null,
      "outputs": [
        {
          "output_type": "stream",
          "name": "stdout",
          "text": [
            "tf.Tensor(\n",
            "[[1 2 3]\n",
            " [4 5 6]], shape=(2, 3), dtype=int32)\n",
            "tf.Tensor(\n",
            "[[1 2]\n",
            " [3 4]\n",
            " [5 6]], shape=(3, 2), dtype=int32)\n"
          ]
        }
      ]
    },
    {
      "cell_type": "code",
      "source": [
        "tensor = tf.constant([[1, 2, 3], [4, 5, 6]])\n",
        "transposed = tf.transpose(tensor)\n",
        "print(tensor)\n",
        "print(transposed)"
      ],
      "metadata": {
        "colab": {
          "base_uri": "https://localhost:8080/"
        },
        "id": "LSU_NKui9C5V",
        "outputId": "559d0ee6-c076-4e9e-9a0a-d5f46c2e1dfc"
      },
      "execution_count": null,
      "outputs": [
        {
          "output_type": "stream",
          "name": "stdout",
          "text": [
            "tf.Tensor(\n",
            "[[1 2 3]\n",
            " [4 5 6]], shape=(2, 3), dtype=int32)\n",
            "tf.Tensor(\n",
            "[[1 4]\n",
            " [2 5]\n",
            " [3 6]], shape=(3, 2), dtype=int32)\n"
          ]
        }
      ]
    },
    {
      "cell_type": "code",
      "source": [],
      "metadata": {
        "id": "mzAAxRe99L1r"
      },
      "execution_count": null,
      "outputs": []
    },
    {
      "cell_type": "markdown",
      "source": [
        "**Ragged Tensors**"
      ],
      "metadata": {
        "id": "OXLTUtYm9qPZ"
      }
    },
    {
      "cell_type": "code",
      "source": [
        "# tf.ragged.constant(): Tensor with variable-length inner dimensions\n",
        "tensor = tf.ragged.constant([[1, 2], [3, 4, 5], [6]])\n",
        "tensor\n"
      ],
      "metadata": {
        "colab": {
          "base_uri": "https://localhost:8080/"
        },
        "id": "wNCKm2-79r5a",
        "outputId": "b49fb4ec-d994-4f2b-81b9-da0a4d856738"
      },
      "execution_count": null,
      "outputs": [
        {
          "output_type": "execute_result",
          "data": {
            "text/plain": [
              "<tf.RaggedTensor [[1, 2], [3, 4, 5], [6]]>"
            ]
          },
          "metadata": {},
          "execution_count": 49
        }
      ]
    },
    {
      "cell_type": "markdown",
      "source": [
        "**Sparse Tensors**\n",
        "1. tf.sparse.SparseTensor(): Tensor with mostly zero values"
      ],
      "metadata": {
        "id": "BeN1HGnM94_b"
      }
    },
    {
      "cell_type": "code",
      "source": [
        "sparse_tensor = tf.sparse.SparseTensor(indices=[[0, 0], [1, 2]], values=[1, 2], dense_shape=[3, 4])\n",
        "sparse_tensor\n"
      ],
      "metadata": {
        "colab": {
          "base_uri": "https://localhost:8080/"
        },
        "id": "CwkDFddk9yj7",
        "outputId": "359fa235-4d0f-4d77-c69b-0f7c20369339"
      },
      "execution_count": null,
      "outputs": [
        {
          "output_type": "execute_result",
          "data": {
            "text/plain": [
              "SparseTensor(indices=tf.Tensor(\n",
              "[[0 0]\n",
              " [1 2]], shape=(2, 2), dtype=int64), values=tf.Tensor([1 2], shape=(2,), dtype=int32), dense_shape=tf.Tensor([3 4], shape=(2,), dtype=int64))"
            ]
          },
          "metadata": {},
          "execution_count": 51
        }
      ]
    },
    {
      "cell_type": "code",
      "source": [],
      "metadata": {
        "id": "cVnylRqJ-CZf"
      },
      "execution_count": null,
      "outputs": []
    }
  ]
}