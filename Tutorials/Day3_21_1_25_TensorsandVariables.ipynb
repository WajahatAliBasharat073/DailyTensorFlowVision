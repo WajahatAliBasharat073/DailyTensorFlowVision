{
 "cells": [
  {
   "cell_type": "markdown",
   "metadata": {},
   "source": [
    "### Indexing"
   ]
  },
  {
   "cell_type": "code",
   "execution_count": 1,
   "metadata": {},
   "outputs": [],
   "source": [
    "import tensorflow as tf"
   ]
  },
  {
   "cell_type": "code",
   "execution_count": 13,
   "metadata": {},
   "outputs": [
    {
     "name": "stdout",
     "output_type": "stream",
     "text": [
      "tf.Tensor([0 1 2 3], shape=(4,), dtype=int32)\n",
      "tf.Tensor([5 4 3 2], shape=(4,), dtype=int32)\n",
      "tf.Tensor([2 3 4 5], shape=(4,), dtype=int32)\n"
     ]
    }
   ],
   "source": [
    "tensorIndexed=tf.constant([0,1,2,3,4,5])\n",
    "print(tensorIndexed[0:4])\n",
    "print(tensorIndexed[-4:][::-1])\n",
    "print(tensorIndexed[-4:])"
   ]
  },
  {
   "cell_type": "code",
   "execution_count": 30,
   "metadata": {},
   "outputs": [
    {
     "name": "stdout",
     "output_type": "stream",
     "text": [
      "tf.Tensor(\n",
      "[[ 1  2  3  4]\n",
      " [ 5  6  7  8]\n",
      " [ 1  2  3  0]\n",
      " [ 5  6  7 47]], shape=(4, 4), dtype=int32)\n",
      "tf.Tensor([1 2 3 4], shape=(4,), dtype=int32)\n",
      "tf.Tensor([1 2 3 0], shape=(4,), dtype=int32)\n",
      "tf.Tensor(\n",
      "[[1 2 3]\n",
      " [5 6 7]\n",
      " [1 2 3]], shape=(3, 3), dtype=int32)\n",
      "tf.Tensor(0, shape=(), dtype=int32)\n"
     ]
    }
   ],
   "source": [
    "tensorIndexed_two_d = tf.constant([[1,2,3,4],[5,6,7,8],[1,2,3,0],[5,6,7,47]])\n",
    "print(tensorIndexed_two_d)\n",
    "print(tensorIndexed_two_d[0])\n",
    "print(tensorIndexed_two_d[2])\n",
    "print(tensorIndexed_two_d[:3,:3])\n",
    "print(tensorIndexed_two_d[2,-1])\n",
    "\n"
   ]
  },
  {
   "cell_type": "code",
   "execution_count": null,
   "metadata": {},
   "outputs": [],
   "source": []
  },
  {
   "cell_type": "code",
   "execution_count": 40,
   "metadata": {},
   "outputs": [
    {
     "name": "stdout",
     "output_type": "stream",
     "text": [
      "tf.Tensor(\n",
      "[[[ 1  2  3  4]\n",
      "  [ 5  6  7  8]]\n",
      "\n",
      " [[ 1  2  3  0]\n",
      "  [ 5  6  7 47]]], shape=(2, 2, 4), dtype=int32)\n",
      "tf.Tensor(\n",
      "[[1 2 3 4]\n",
      " [5 6 7 8]], shape=(2, 4), dtype=int32)\n",
      "tf.Tensor([5 6 7 8], shape=(4,), dtype=int32)\n",
      "tf.Tensor(7, shape=(), dtype=int32)\n",
      "tf.Tensor(47, shape=(), dtype=int32)\n",
      "tf.Tensor(0, shape=(), dtype=int32)\n",
      "tf.Tensor(8, shape=(), dtype=int32)\n",
      "tf.Tensor(\n",
      "[[ 4  8]\n",
      " [ 0 47]], shape=(2, 2), dtype=int32)\n",
      "tf.Tensor(\n",
      "[[[1 2]\n",
      "  [5 6]]\n",
      "\n",
      " [[1 2]\n",
      "  [5 6]]], shape=(2, 2, 2), dtype=int32)\n"
     ]
    }
   ],
   "source": [
    "tensorIndexed_three_d = tf.constant(\n",
    "    [[[1, 2, 3, 4], [5, 6, 7, 8]], [[1, 2, 3, 0], [5, 6, 7, 47]]])\n",
    "print(tensorIndexed_three_d)\n",
    "print(tensorIndexed_three_d[0,:,:])\n",
    "print(tensorIndexed_three_d[0,1,:])\n",
    "print(tensorIndexed_three_d[0,1,2])\n",
    "print(tensorIndexed_three_d[1,1,3])\n",
    "print(tensorIndexed_three_d[1,0,3])\n",
    "print(tensorIndexed_three_d[0,1,3])\n",
    "print(tensorIndexed_three_d[0:2,...,3])\n",
    "print(tensorIndexed_three_d[0:2,...,0:2])"
   ]
  },
  {
   "cell_type": "code",
   "execution_count": 48,
   "metadata": {},
   "outputs": [
    {
     "name": "stdout",
     "output_type": "stream",
     "text": [
      "tf.Tensor(\n",
      "[[[[   1    2    3    4]\n",
      "   [   5    6    7    8]]\n",
      "\n",
      "  [[  11   32   36   90]\n",
      "   [  52   63  237  347]]]\n",
      "\n",
      "\n",
      " [[[  13   22   33   14]\n",
      "   [  54   16   47   38]]\n",
      "\n",
      "  [[ 111  432  336  910]\n",
      "   [ 252  463 2437 3447]]]], shape=(2, 2, 2, 4), dtype=int32)\n",
      "tf.Tensor(1, shape=(), dtype=int32)\n",
      "tf.Tensor(\n",
      "[[[  1   2   3   4]\n",
      "  [  5   6   7   8]]\n",
      "\n",
      " [[ 11  32  36  90]\n",
      "  [ 52  63 237 347]]], shape=(2, 2, 4), dtype=int32)\n",
      "tf.Tensor(\n",
      "[[ 111  432  336  910]\n",
      " [ 252  463 2437 3447]], shape=(2, 4), dtype=int32)\n",
      "tf.Tensor([ 252  463 2437 3447], shape=(4,), dtype=int32)\n",
      "tf.Tensor(3447, shape=(), dtype=int32)\n"
     ]
    }
   ],
   "source": [
    "tensorIndexed_four_d = tf.constant(\n",
    "    [\n",
    "        [[[1, 2, 3, 4], [5, 6, 7, 8]], \n",
    "     \n",
    "        [[11, 32, 36, 90], [52, 63, 237, 347]]],\n",
    "        [[[13, 22, 33, 14], [54, 16, 47, 38]],\n",
    "\n",
    "         [[111, 432, 336, 910], [252, 463, 2437, 3447]]],\n",
    "     ])\n",
    "print(tensorIndexed_four_d)\n",
    "print(tensorIndexed_four_d[0,0,0,0])\n",
    "print(tensorIndexed_four_d[0,:,:,:])\n",
    "print(tensorIndexed_four_d[1,1,:,:])\n",
    "print(tensorIndexed_four_d[1,1,1,:])\n",
    "print(tensorIndexed_four_d[1,1,1,3])"
   ]
  },
  {
   "cell_type": "code",
   "execution_count": null,
   "metadata": {},
   "outputs": [],
   "source": []
  }
 ],
 "metadata": {
  "kernelspec": {
   "display_name": "TF_CV",
   "language": "python",
   "name": "python3"
  },
  "language_info": {
   "codemirror_mode": {
    "name": "ipython",
    "version": 3
   },
   "file_extension": ".py",
   "mimetype": "text/x-python",
   "name": "python",
   "nbconvert_exporter": "python",
   "pygments_lexer": "ipython3",
   "version": "3.10.0"
  }
 },
 "nbformat": 4,
 "nbformat_minor": 2
}
