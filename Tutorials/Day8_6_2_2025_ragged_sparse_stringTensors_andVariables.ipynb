{
 "cells": [
  {
   "cell_type": "markdown",
   "metadata": {},
   "source": [
    "### Agenda\n",
    "- Ragged Tensor\n",
    "- Sparse Tensors\n",
    "- String Tensors\n",
    "- Variables"
   ]
  },
  {
   "cell_type": "code",
   "execution_count": 2,
   "metadata": {},
   "outputs": [],
   "source": [
    "import tensorflow as tf"
   ]
  },
  {
   "cell_type": "code",
   "execution_count": 7,
   "metadata": {},
   "outputs": [
    {
     "name": "stdout",
     "output_type": "stream",
     "text": [
      "(5, None)\n",
      "<tf.RaggedTensor [[1, 2, 3, 4], [9, 32, 43, 53], [24], [25, 18],\n",
      " [1, 2, 3, 4, 5, 6, 7, 8, 9]]>\n"
     ]
    }
   ],
   "source": [
    "# rf.ragged help in dealing with non rectangular shape tensors\n",
    "tensorTD=[[1,2,3,4],[9,32,43,53],[24,],[25,18,],[1,2,3,4,5,6,7,8,9]]\n",
    "raggedtensor=tf.ragged.constant(tensorTD)\n",
    "print(raggedtensor.shape)\n",
    "print(raggedtensor)\n"
   ]
  },
  {
   "cell_type": "code",
   "execution_count": null,
   "metadata": {},
   "outputs": [],
   "source": [
    "# tf.raged.boolean_mask applies to boolean mask to data without flattening the mask dimensions\n"
   ]
  },
  {
   "cell_type": "code",
   "execution_count": 17,
   "metadata": {},
   "outputs": [
    {
     "name": "stdout",
     "output_type": "stream",
     "text": [
      "<tf.RaggedTensor [[3, 1, 4, 1], [], [5, 9, 2], [6], []]>\n"
     ]
    }
   ],
   "source": [
    "## raggedtensor.from_nested_row_lengths is used \n",
    "print(tf.RaggedTensor.from_row_lengths(values=[3,1,4,1,5,9,2,6],\n",
    "                                       row_lengths=[4,0,3,1,0]))\n"
   ]
  },
  {
   "cell_type": "code",
   "execution_count": null,
   "metadata": {},
   "outputs": [],
   "source": []
  },
  {
   "cell_type": "code",
   "execution_count": 8,
   "metadata": {},
   "outputs": [],
   "source": [
    "## sparse tensor\n"
   ]
  },
  {
   "cell_type": "code",
   "execution_count": null,
   "metadata": {},
   "outputs": [],
   "source": []
  }
 ],
 "metadata": {
  "kernelspec": {
   "display_name": "myenv",
   "language": "python",
   "name": "python3"
  },
  "language_info": {
   "codemirror_mode": {
    "name": "ipython",
    "version": 3
   },
   "file_extension": ".py",
   "mimetype": "text/x-python",
   "name": "python",
   "nbconvert_exporter": "python",
   "pygments_lexer": "ipython3",
   "version": "3.10.0"
  }
 },
 "nbformat": 4,
 "nbformat_minor": 2
}
