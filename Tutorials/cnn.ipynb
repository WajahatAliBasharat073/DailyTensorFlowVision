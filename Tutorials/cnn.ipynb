{
 "cells": [
  {
   "metadata": {
    "ExecuteTime": {
     "end_time": "2025-03-11T02:19:49.888452Z",
     "start_time": "2025-03-11T02:19:49.398650Z"
    }
   },
   "cell_type": "code",
   "source": "import numpy as np",
   "id": "ca4d78399406e4f5",
   "outputs": [],
   "execution_count": 1
  },
  {
   "metadata": {
    "ExecuteTime": {
     "end_time": "2025-03-11T02:21:03.107017Z",
     "start_time": "2025-03-11T02:21:03.092013Z"
    }
   },
   "cell_type": "code",
   "source": [
    "a=[[0,2,5],[9,-1,29],[0,34,7]]\n",
    "b=[[3,2,1],[-1,-2,-3],[2,1,-1]]"
   ],
   "id": "1529e56ce2646759",
   "outputs": [],
   "execution_count": 2
  },
  {
   "metadata": {
    "ExecuteTime": {
     "end_time": "2025-03-11T02:23:57.848985Z",
     "start_time": "2025-03-11T02:23:51.780951Z"
    }
   },
   "cell_type": "code",
   "source": [
    "import numpy as np\n",
    "from scipy.signal import convolve2d\n",
    "\n",
    "A = np.array([[0, 2, 5], [9, -1, 29], [0, 34, 7]])\n",
    "B = np.array([[3, 2, 1], [-1, -2, -3], [2, 1, -1]])\n",
    "\n",
    "result = convolve2d(A, B)  # 'full', 'valid', or 'same' as per need\n",
    "print(result)\n"
   ],
   "id": "3d6e2b078036acad",
   "outputs": [
    {
     "name": "stdout",
     "output_type": "stream",
     "text": [
      "[[  0   6  19  12   5]\n",
      " [ 27  13  85  41  14]\n",
      " [ -9  89  47  -4 -85]\n",
      " [ 18 -27 -27 -86 -50]\n",
      " [  0  68  48 -27  -7]]\n"
     ]
    }
   ],
   "execution_count": 5
  },
  {
   "metadata": {},
   "cell_type": "code",
   "outputs": [],
   "execution_count": null,
   "source": "",
   "id": "3cfed5574f2f2f5"
  }
 ],
 "metadata": {
  "kernelspec": {
   "name": "python3",
   "language": "python",
   "display_name": "Python 3 (ipykernel)"
  }
 },
 "nbformat": 5,
 "nbformat_minor": 9
}
